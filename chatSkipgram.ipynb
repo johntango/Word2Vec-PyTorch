{
 "cells": [
  {
   "cell_type": "markdown",
   "metadata": {},
   "source": [
    "# Word2Vec SkipGram Model"
   ]
  },
  {
   "cell_type": "code",
   "execution_count": 3,
   "metadata": {},
   "outputs": [
    {
     "name": "stdout",
     "output_type": "stream",
     "text": [
      "Epoch [10/100], Loss: 4.7934\n",
      "Epoch [20/100], Loss: 4.0640\n",
      "Epoch [30/100], Loss: 3.2997\n",
      "Epoch [40/100], Loss: 3.5361\n",
      "Epoch [50/100], Loss: 2.9079\n",
      "Epoch [60/100], Loss: 3.6742\n",
      "Epoch [70/100], Loss: 3.4649\n",
      "Epoch [80/100], Loss: 3.5657\n",
      "Epoch [90/100], Loss: 2.6602\n",
      "Epoch [100/100], Loss: 2.8804\n",
      "Training completed.\n"
     ]
    }
   ],
   "source": [
    "import torch\n",
    "import torch.nn as nn\n",
    "import torch.optim as optim\n",
    "import random\n",
    "\n",
    "# Define the Skip-gram model\n",
    "class SkipGram(nn.Module):\n",
    "    def __init__(self, vocab_size, embed_dim):\n",
    "        super(SkipGram, self).__init__()\n",
    "        self.in_embed = nn.Embedding(vocab_size, embed_dim)\n",
    "        self.out_embed = nn.Embedding(vocab_size, embed_dim)\n",
    "\n",
    "    def forward(self, target, context):\n",
    "        in_embeds = self.in_embed(target)\n",
    "        out_embeds = self.out_embed(context)\n",
    "        \n",
    "        # Calculate dot product for each pair and reshape to (B, vocab_size)\n",
    "        scores = torch.matmul(in_embeds, self.out_embed.weight.t())\n",
    "        \n",
    "        return scores\n",
    "\n",
    "# Generate sample data (target, context)\n",
    "def generate_sample_data(num_samples=1000, vocab_size=100):\n",
    "    target_words = [random.randint(0, vocab_size-1) for _ in range(num_samples)]\n",
    "    context_words = [random.randint(0, vocab_size-1) for _ in range(num_samples)]\n",
    "    return target_words, context_words\n",
    "\n",
    "# Initialize model and parameters\n",
    "vocab_size = 100\n",
    "embed_dim = 10\n",
    "skipgram_model = SkipGram(vocab_size, embed_dim)\n",
    "\n",
    "# Generate sample data\n",
    "num_samples = 1000\n",
    "target_words, context_words = generate_sample_data(num_samples, vocab_size)\n",
    "target_tensor = torch.LongTensor(target_words)\n",
    "context_tensor = torch.LongTensor(context_words)\n",
    "\n",
    "# Training configurations\n",
    "learning_rate = 0.01\n",
    "num_epochs = 100\n",
    "batch_size = 32\n",
    "\n",
    "# Loss and optimizer\n",
    "criterion = nn.CrossEntropyLoss()\n",
    "optimizer = optim.Adam(skipgram_model.parameters(), lr=learning_rate)\n",
    "\n",
    "# Training loop\n",
    "for epoch in range(num_epochs):\n",
    "    # Shuffle data\n",
    "    shuffle_indices = torch.randperm(num_samples)\n",
    "    target_tensor = target_tensor[shuffle_indices]\n",
    "    context_tensor = context_tensor[shuffle_indices]\n",
    "    \n",
    "    for i in range(0, num_samples, batch_size):\n",
    "        # Prepare mini-batch\n",
    "        target_batch = target_tensor[i:i+batch_size]\n",
    "        context_batch = context_tensor[i:i+batch_size]\n",
    "        \n",
    "        # Forward pass\n",
    "        scores = skipgram_model(target_batch, context_batch)\n",
    "        \n",
    "        # Compute loss\n",
    "        loss = criterion(scores, context_batch)\n",
    "        \n",
    "        # Backward pass and optimization\n",
    "        optimizer.zero_grad()\n",
    "        loss.backward()\n",
    "        optimizer.step()\n",
    "    \n",
    "    if (epoch+1) % 10 == 0:\n",
    "        print(f'Epoch [{epoch+1}/{num_epochs}], Loss: {loss.item():.4f}')\n",
    "\n",
    "print(\"Training completed.\")\n"
   ]
  },
  {
   "cell_type": "code",
   "execution_count": 4,
   "metadata": {},
   "outputs": [
    {
     "data": {
      "text/plain": [
       "({'brown', 'dog', 'fox', 'jumps', 'lazy', 'over', 'quick', 'the'},\n",
       " [(4, 3), (3, 4), (3, 7), (7, 3), (7, 2)])"
      ]
     },
     "execution_count": 4,
     "metadata": {},
     "output_type": "execute_result"
    }
   ],
   "source": [
    "from collections import Counter\n",
    "from torch.utils.data import DataLoader, TensorDataset\n",
    "\n",
    "# Sample text corpus\n",
    "corpus = \"The quick brown fox jumps over the lazy dog.\"\n",
    "corpus = corpus.lower().replace('.', '')  # Preprocessing: to lower case and remove punctuation\n",
    "\n",
    "# Tokenize and build vocabulary\n",
    "tokens = corpus.split()\n",
    "vocab = set(tokens)\n",
    "vocab_size = len(vocab)\n",
    "word_to_index = {word: i for i, word in enumerate(vocab)}\n",
    "index_to_word = {i: word for word, i in word_to_index.items()}\n",
    "\n",
    "# Generate target-context pairs with window size 1\n",
    "target_context_pairs = []\n",
    "for i, target in enumerate(tokens):\n",
    "    context = [tokens[j] for j in range(max(0, i-1), min(len(tokens), i+2)) if j != i]\n",
    "    for c in context:\n",
    "        target_context_pairs.append((word_to_index[target], word_to_index[c]))\n",
    "\n",
    "# Convert to tensors\n",
    "targets, contexts = zip(*target_context_pairs)\n",
    "target_tensor = torch.LongTensor(targets)\n",
    "context_tensor = torch.LongTensor(contexts)\n",
    "\n",
    "# Create DataLoader for training data\n",
    "train_dataset = TensorDataset(target_tensor, context_tensor)\n",
    "train_loader = DataLoader(train_dataset, batch_size=batch_size, shuffle=True)\n",
    "\n",
    "# Display vocabulary and some sample pairs\n",
    "vocab, target_context_pairs[:5]\n"
   ]
  },
  {
   "cell_type": "code",
   "execution_count": 6,
   "metadata": {},
   "outputs": [
    {
     "name": "stdout",
     "output_type": "stream",
     "text": [
      "Epoch [10/100], Loss: 3.3163\n",
      "Epoch [20/100], Loss: 2.4085\n",
      "Epoch [30/100], Loss: 1.8077\n",
      "Epoch [40/100], Loss: 1.3994\n",
      "Epoch [50/100], Loss: 1.1259\n",
      "Epoch [60/100], Loss: 0.9555\n",
      "Epoch [70/100], Loss: 0.8586\n",
      "Epoch [80/100], Loss: 0.8150\n",
      "Epoch [90/100], Loss: 0.7905\n",
      "Epoch [100/100], Loss: 0.7754\n",
      "Training completed.\n"
     ]
    }
   ],
   "source": [
    "# Re-initialize model with the new vocab size\n",
    "skipgram_model = SkipGram(len(vocab), embed_dim)\n",
    "\n",
    "# Loss and optimizer\n",
    "criterion = nn.CrossEntropyLoss()\n",
    "optimizer = optim.Adam(skipgram_model.parameters(), lr=learning_rate)\n",
    "\n",
    "# Training loop\n",
    "for epoch in range(num_epochs):\n",
    "    for i, (target_batch, context_batch) in enumerate(train_loader):\n",
    "        # Forward pass\n",
    "        scores = skipgram_model(target_batch, context_batch)\n",
    "        \n",
    "        # Compute loss\n",
    "        loss = criterion(scores, context_batch)\n",
    "        \n",
    "        # Backward pass and optimization\n",
    "        optimizer.zero_grad()\n",
    "        loss.backward()\n",
    "        optimizer.step()\n",
    "    \n",
    "    if (epoch+1) % 10 == 0:\n",
    "        print(f'Epoch [{epoch+1}/{num_epochs}], Loss: {loss.item():.4f}')\n",
    "\n",
    "print(\"Training completed.\")\n",
    "torch.save(skipgram_model.state_dict(), 'skipgram_model.pth')\n",
    "\n"
   ]
  },
  {
   "cell_type": "code",
   "execution_count": 10,
   "metadata": {},
   "outputs": [
    {
     "name": "stdout",
     "output_type": "stream",
     "text": [
      "quick is represented by [[-0.50501394 -0.17972921  1.3839511  -0.07640239 -0.07448568 -1.3944459\n",
      "  -0.39962184  1.4717467   2.072118   -1.5519279 ]]\n"
     ]
    }
   ],
   "source": [
    "# Load the saved model\n",
    "model = SkipGram(len(vocab), embed_dim)\n",
    "model.load_state_dict(torch.load('skipgram_model.pth'))\n",
    "model.eval()\n",
    "\n",
    "# Get the embeddings\n",
    "def get_embedding(word):\n",
    "    if word in word_to_index:\n",
    "        word_idx = torch.tensor([word_to_index[word]], dtype=torch.long)\n",
    "        return model.in_embed(word_idx).detach().numpy()\n",
    "    else:\n",
    "        return None  # or handle OOV differently\n",
    "\n",
    "# Example usage\n",
    "embedding_vector = get_embedding('quick')\n",
    "print(f'quick is represented by {embedding_vector}')\n",
    "\n"
   ]
  }
 ],
 "metadata": {
  "kernelspec": {
   "display_name": "Python 3",
   "language": "python",
   "name": "python3"
  },
  "language_info": {
   "codemirror_mode": {
    "name": "ipython",
    "version": 3
   },
   "file_extension": ".py",
   "mimetype": "text/x-python",
   "name": "python",
   "nbconvert_exporter": "python",
   "pygments_lexer": "ipython3",
   "version": "3.10.8"
  },
  "orig_nbformat": 4
 },
 "nbformat": 4,
 "nbformat_minor": 2
}
